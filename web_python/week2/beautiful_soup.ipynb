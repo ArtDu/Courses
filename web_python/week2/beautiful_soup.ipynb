{
 "cells": [
  {
   "cell_type": "markdown",
   "metadata": {},
   "source": [
    "* Модуль для извлечения данных из HTML и XML\n",
    "* Плохая разметка -> не закрытые тэги, плохие атрибуты\n",
    "\n",
    "=> Строит дерево синтаксического разбора\n",
    "\n",
    "* Нужен парсер, html.parser, lxml\n",
    "* Представляет в виде объекта питона."
   ]
  },
  {
   "cell_type": "code",
   "execution_count": 2,
   "metadata": {
    "pycharm": {
     "name": "#%%\n",
     "is_executing": false
    }
   },
   "outputs": [
    {
     "data": {
      "text/plain": "['//commons.wikimedia.org/',\n '//www.wikivoyage.org/',\n '//www.wiktionary.org/',\n '//www.wikibooks.org/',\n '//www.wikinews.org/',\n '//www.wikidata.org/',\n '//www.wikiversity.org/',\n '//www.wikiquote.org/',\n '//www.mediawiki.org/',\n '//www.wikisource.org/',\n '//species.wikimedia.org/',\n '//meta.wikimedia.org/']"
     },
     "metadata": {},
     "output_type": "execute_result",
     "execution_count": 2
    }
   ],
   "source": [
    "import requests\n",
    "resp = requests.get('https://www.wikipedia.org')\n",
    "html = resp.text\n",
    "import re\n",
    "re_links = re.findall(r'<a[^>]+class=\"[^\"]*other-project-link[^>]+href=\"([^\"]+)',html)\n",
    "re_links"
   ]
  },
  {
   "cell_type": "code",
   "execution_count": 3,
   "metadata": {
    "pycharm": {
     "name": "#%%\n",
     "is_executing": false
    }
   },
   "outputs": [
    {
     "data": {
      "text/plain": "['//commons.wikimedia.org/',\n '//www.wikivoyage.org/',\n '//www.wiktionary.org/',\n '//www.wikibooks.org/',\n '//www.wikinews.org/',\n '//www.wikidata.org/',\n '//www.wikiversity.org/',\n '//www.wikiquote.org/',\n '//www.mediawiki.org/',\n '//www.wikisource.org/',\n '//species.wikimedia.org/',\n '//meta.wikimedia.org/']"
     },
     "metadata": {},
     "output_type": "execute_result",
     "execution_count": 3
    }
   ],
   "source": [
    "from bs4 import BeautifulSoup\n",
    "soup = BeautifulSoup(html, 'lxml')\n",
    "bs_links = soup('a', 'other-project-link')\n",
    "bs_hrefs = [link['href'] for link in bs_links]\n",
    "bs_hrefs\n"
   ]
  },
  {
   "cell_type": "code",
   "execution_count": 60,
   "metadata": {
    "pycharm": {
     "is_executing": false
    }
   },
   "outputs": [
    {
     "data": {
      "text/plain": "<html><body><a></a>,<a></a></body></html>"
     },
     "metadata": {},
     "output_type": "execute_result",
     "execution_count": 60
    }
   ],
   "source": [
    "html = \"\"\"<a></a>,<a></a>\"\"\"\n",
    "from bs4 import BeautifulSoup\n",
    "soup = BeautifulSoup(html, 'lxml')\n",
    "soup\n"
   ]
  },
  {
   "cell_type": "code",
   "execution_count": 62,
   "metadata": {
    "pycharm": {
     "is_executing": false,
     "name": "#%%\n"
    }
   },
   "outputs": [
    {
     "data": {
      "text/plain": "<a></a>"
     },
     "metadata": {},
     "output_type": "execute_result",
     "execution_count": 62
    }
   ],
   "source": [
    "e = soup.a.next_sibling\n",
    "e.next_sibling\n",
    "# type(soup.p.b.string)"
   ]
  },
  {
   "cell_type": "code",
   "execution_count": 9,
   "metadata": {
    "pycharm": {
     "is_executing": false,
     "name": "#%%\n"
    }
   },
   "outputs": [
    {
     "data": {
      "text/plain": "['text', 'odd']"
     },
     "metadata": {},
     "output_type": "execute_result",
     "execution_count": 9
    }
   ],
   "source": [
    "soup.p['class']"
   ]
  },
  {
   "cell_type": "code",
   "execution_count": 8,
   "metadata": {
    "pycharm": {
     "is_executing": false,
     "name": "#%%\n"
    }
   },
   "outputs": [
    {
     "data": {
      "text/plain": [
       "'body'"
      ]
     },
     "execution_count": 8,
     "metadata": {},
     "output_type": "execute_result"
    }
   ],
   "source": [
    "soup.p.parent.name"
   ]
  },
  {
   "cell_type": "code",
   "execution_count": 9,
   "metadata": {
    "pycharm": {
     "is_executing": false,
     "name": "#%%\n"
    }
   },
   "outputs": [
    {
     "data": {
      "text/plain": [
       "['p', 'body', 'html', '[document]']"
      ]
     },
     "execution_count": 9,
     "metadata": {},
     "output_type": "execute_result"
    }
   ],
   "source": [
    "[i.name for i in soup.p.b.parents]"
   ]
  },
  {
   "cell_type": "code",
   "execution_count": 10,
   "metadata": {
    "pycharm": {
     "is_executing": false,
     "name": "#%%\n"
    }
   },
   "outputs": [
    {
     "data": {
      "text/plain": [
       "'first '"
      ]
     },
     "execution_count": 10,
     "metadata": {},
     "output_type": "execute_result"
    }
   ],
   "source": [
    "soup.p.next"
   ]
  },
  {
   "cell_type": "code",
   "execution_count": 11,
   "metadata": {
    "pycharm": {
     "is_executing": false,
     "name": "#%%\n"
    }
   },
   "outputs": [
    {
     "data": {
      "text/plain": [
       "'\\n'"
      ]
     },
     "execution_count": 11,
     "metadata": {},
     "output_type": "execute_result"
    }
   ],
   "source": [
    "soup.p.next_sibling"
   ]
  },
  {
   "cell_type": "code",
   "execution_count": 11,
   "metadata": {
    "pycharm": {
     "is_executing": false,
     "name": "#%%\n"
    }
   },
   "outputs": [
    {
     "data": {
      "text/plain": "bs4.element.Tag"
     },
     "metadata": {},
     "output_type": "execute_result",
     "execution_count": 11
    }
   ],
   "source": [
    "soup.p.contents"
   ]
  },
  {
   "cell_type": "code",
   "execution_count": 13,
   "metadata": {
    "pycharm": {
     "is_executing": false,
     "name": "#%%\n"
    }
   },
   "outputs": [
    {
     "data": {
      "text/plain": [
       "['first ', <b>bold</b>, ' paragraph']"
      ]
     },
     "execution_count": 13,
     "metadata": {},
     "output_type": "execute_result"
    }
   ],
   "source": [
    "soup.p.children\n",
    "list(soup.p.children)"
   ]
  },
  {
   "cell_type": "code",
   "execution_count": 15,
   "metadata": {
    "pycharm": {
     "name": "#%%\n"
    }
   },
   "outputs": [
    {
     "data": {
      "text/plain": [
       "[('Новости Москвы',\n",
       "  ['Школьники смогут учиться дистанционно по\\xa0желанию родителей',\n",
       "   'Число сделок со\\xa0вторичным жильем в\\xa0Москве в\\xa0июле выросло на\\xa030%',\n",
       "   'В\\xa0мэрии опровергли планы продажи записей с\\xa0камер наблюдения',\n",
       "   'Москва спустя 85 лет прекратила троллейбусное движение',\n",
       "   'Альпака и павлины: на ВДНХ отметят пятилетие «Городской фермы»',\n",
       "   'В\\xa0Москве за\\xa0сутки умерли 12 пациентов с\\xa0коронавирусом']),\n",
       " ('Политика',\n",
       "  ['Тихановская: белорусская революция не носит антироссийский характер',\n",
       "   'В Кремле ответили на обвинения в адрес властей России из-за Навального',\n",
       "   'Кравчук назвал условие для снятия Украиной «водной блокады» Крыма',\n",
       "   'Замгоссекретаря Биган прибудет с визитом в Москву']),\n",
       " ('Экономика',\n",
       "  ['Российскую космическую программу урезали на 150 млрд рублей',\n",
       "   'Кипр откроет границы для некоторых россиян',\n",
       "   'Китаю нашли замену у границ США',\n",
       "   'Счётная палата выяснила, почему россияне недополучают пенсии']),\n",
       " ('Общество',\n",
       "  ['Подростки в Израиле нашли крупный золотой клад',\n",
       "   'Телескоп «поймал» на камеру космическую взрывную волну',\n",
       "   'Канадец создал невероятные портреты из соли (фото)',\n",
       "   'Австралийка отказалась от «счастливых» чисел и сорвала джекпот']),\n",
       " ('События',\n",
       "  ['В Нидерландах и Бельгии отмечены повторные случаи заражения COVID-19',\n",
       "   'В Москве за сутки умерли 12 пациентов с коронавирусом',\n",
       "   'Каким веществом мог быть отравлен Алексей Навальный',\n",
       "   'Немецкие врачи назвали причиной болезни Навального отравление']),\n",
       " ('Справки',\n",
       "  ['10\\xa0фактов о\\xa0Джозефе Байдене',\n",
       "   'Опубликованы этапы переезда по программе реновации',\n",
       "   'Первый пошел: читаем инструкцию к российской вакцине от COVID-19',\n",
       "   'Взрыв в Бейруте: больше 200 погибших и чрезвычайное положение']),\n",
       " ('Фоторепортажи',\n",
       "  ['85-летняя история московского троллейбуса',\n",
       "   'Названы лучшие орнитологические фото года',\n",
       "   '10 дней, которые потрясли Минск',\n",
       "   'Объявлены финалисты конкурса садовой макро-фотографии',\n",
       "   'Самый яркий звездопад года',\n",
       "   'Нефтяная труба: Маврикий пытаются спасти от катастрофы',\n",
       "   '«Курск»: история одной трагедии',\n",
       "   'Вторая ночь протестов в Белоруссии',\n",
       "   'Извержение стратовулкана Синабунг',\n",
       "   'Акции протеста в Белоруссии'])]"
      ]
     },
     "execution_count": 15,
     "metadata": {},
     "output_type": "execute_result"
    }
   ],
   "source": [
    "\n",
    "import requests\n",
    "result = requests.get(\"https://news.mail.ru/\")\n",
    "soup = BeautifulSoup(result.content, \"lxml\")\n",
    "soup\n",
    "[\n",
    "    (\n",
    "        section.string,\n",
    "        [\n",
    "            header.string for header in section.find_parents()[4].find_all(\n",
    "                class_=['newsitem__title-inner','link__text', 'collections__title',\n",
    "                'photo__title']\n",
    "                )\n",
    "        ]\n",
    "    ) for section in soup(class_=\"hdr__inner\")\n",
    "]"
   ]
  },
  {
   "cell_type": "code",
   "execution_count": null,
   "outputs": [],
   "source": [],
   "metadata": {
    "collapsed": false,
    "pycharm": {
     "name": "#%%\n"
    }
   }
  },
  {
   "cell_type": "code",
   "execution_count": null,
   "metadata": {},
   "outputs": [],
   "source": []
  }
 ],
 "metadata": {
  "kernelspec": {
   "display_name": "Python 3",
   "language": "python",
   "name": "python3"
  },
  "language_info": {
   "codemirror_mode": {
    "name": "ipython",
    "version": 3
   },
   "file_extension": ".py",
   "mimetype": "text/x-python",
   "name": "python",
   "nbconvert_exporter": "python",
   "pygments_lexer": "ipython3",
   "version": "3.8.2"
  },
  "pycharm": {
   "stem_cell": {
    "cell_type": "raw",
    "source": [],
    "metadata": {
     "collapsed": false
    }
   }
  }
 },
 "nbformat": 4,
 "nbformat_minor": 4
}