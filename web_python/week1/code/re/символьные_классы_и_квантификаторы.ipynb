{
 "cells": [
  {
   "cell_type": "markdown",
   "metadata": {
    "collapsed": true,
    "pycharm": {
     "name": "#%% md\n"
    }
   },
   "source": [
    "![.](../../img/classes_and_cvantificators.png)  "
   ]
  },
  {
   "cell_type": "markdown",
   "metadata": {},
   "source": [
    "![.](../../img/spec_classes.png)"
   ]
  },
  {
   "cell_type": "code",
   "execution_count": 2,
   "metadata": {},
   "outputs": [
    {
     "name": "stdout",
     "output_type": "stream",
     "text": [
      "valid nickname: \"sU3r_h4XX0r\"\n",
      "valid nickname: \"alёna\"\n",
      "valid nickname: \"ivan ivanovich\"\n"
     ]
    }
   ],
   "source": [
    "import re\n",
    "nicknames = ['sU3r_h4XX0r', 'alёna', 'ivan ivanovich']\n",
    "reg = re.compile(r'\\w+')\n",
    "for nick in nicknames:\n",
    "    print('{} nickname: \"{}\"'.format(\n",
    "    'valid' if reg.match(nick) else 'invalid',\n",
    "    nick\n",
    "    ))"
   ]
  },
  {
   "cell_type": "code",
   "execution_count": 3,
   "metadata": {},
   "outputs": [
    {
     "name": "stdout",
     "output_type": "stream",
     "text": [
      "valid nickname: \"sU3r_h4XX0r\"\n",
      "invalid nickname: \"alёna\"\n",
      "invalid nickname: \"ivan ivanovich\"\n"
     ]
    }
   ],
   "source": [
    "import re\n",
    "nicknames = ['sU3r_h4XX0r', 'alёna', 'ivan ivanovich']\n",
    "reg = re.compile(r'^\\w+$', re.ASCII)\n",
    "for nick in nicknames:\n",
    "    print('{} nickname: \"{}\"'.format(\n",
    "    'valid' if reg.match(nick) else 'invalid',\n",
    "    nick\n",
    "    ))"
   ]
  },
  {
   "cell_type": "code",
   "execution_count": 4,
   "metadata": {},
   "outputs": [
    {
     "data": {
      "text/plain": [
       "['Анна', 'Лена', 'Яна', 'Ильна']"
      ]
     },
     "execution_count": 4,
     "metadata": {},
     "output_type": "execute_result"
    }
   ],
   "source": [
    "import re\n",
    "text = (\n",
    "    'Анна и Лена загорали на берегу океана, '\n",
    "    'когда к ним подошли Яна и Ильнар'\n",
    ")\n",
    "re.findall(r'[А-Я]\\w*на', text)"
   ]
  },
  {
   "cell_type": "code",
   "execution_count": 5,
   "metadata": {},
   "outputs": [
    {
     "data": {
      "text/plain": [
       "['Анна', 'Лена', 'Яна']"
      ]
     },
     "execution_count": 5,
     "metadata": {},
     "output_type": "execute_result"
    }
   ],
   "source": [
    "re.findall(r'\\b[А-Я]\\w*на\\b', text)"
   ]
  },
  {
   "cell_type": "code",
   "execution_count": 6,
   "metadata": {},
   "outputs": [
    {
     "data": {
      "text/plain": [
       "['на', 'на', 'НА', 'на']"
      ]
     },
     "execution_count": 6,
     "metadata": {},
     "output_type": "execute_result"
    }
   ],
   "source": [
    "import re\n",
    "text = (\n",
    "    'Анна и Елена загорали на берегу океана, '\n",
    "    'когда к ним подошли ЯНА, ПОЛИна и Ильнар'\n",
    ")\n",
    "re.findall(r'\\b[А-Я]\\w*(на|НА)\\b', text)"
   ]
  },
  {
   "cell_type": "code",
   "execution_count": 7,
   "metadata": {},
   "outputs": [
    {
     "data": {
      "text/plain": [
       "['Анна', 'Елена', 'ЯНА', 'ПОЛИна']"
      ]
     },
     "execution_count": 7,
     "metadata": {},
     "output_type": "execute_result"
    }
   ],
   "source": [
    "re.findall(r'\\b[А-Я]\\w*(?:на|НА)\\b', text)"
   ]
  },
  {
   "cell_type": "code",
   "execution_count": 8,
   "metadata": {},
   "outputs": [
    {
     "data": {
      "text/plain": [
       "['л', 'с', 'р', 'и']"
      ]
     },
     "execution_count": 8,
     "metadata": {},
     "output_type": "execute_result"
    }
   ],
   "source": [
    "import re\n",
    "text=\"Как защитить металл от процесса коррозии?\"\n",
    "re.findall(r'(\\w)\\1', text)"
   ]
  },
  {
   "cell_type": "code",
   "execution_count": 9,
   "metadata": {},
   "outputs": [
    {
     "data": {
      "text/plain": [
       "'К?к з?щитить мет?лл от процесс? коррозии?'"
      ]
     },
     "execution_count": 9,
     "metadata": {},
     "output_type": "execute_result"
    }
   ],
   "source": [
    "re.sub(r'а', '?', text)"
   ]
  },
  {
   "cell_type": "code",
   "execution_count": 10,
   "metadata": {},
   "outputs": [
    {
     "data": {
      "text/plain": [
       "'Как защитить метаЛЛ от процеССа коРРозИИ?'"
      ]
     },
     "execution_count": 10,
     "metadata": {},
     "output_type": "execute_result"
    }
   ],
   "source": [
    "re.sub(r'(\\w)\\1', lambda r: r.group(0).upper(), text)"
   ]
  },
  {
   "cell_type": "code",
   "execution_count": 11,
   "metadata": {},
   "outputs": [
    {
     "data": {
      "text/plain": [
       "'Как защитить [металл] от [процесса] [коррозии]?'"
      ]
     },
     "execution_count": 11,
     "metadata": {},
     "output_type": "execute_result"
    }
   ],
   "source": [
    "re.sub(r'\\b(\\w*(\\w)\\2\\w*)\\b', r'[\\1]', text)"
   ]
  },
  {
   "cell_type": "code",
   "execution_count": null,
   "metadata": {},
   "outputs": [],
   "source": []
  }
 ],
 "metadata": {
  "kernelspec": {
   "display_name": "Python 3",
   "language": "python",
   "name": "python3"
  },
  "language_info": {
   "codemirror_mode": {
    "name": "ipython",
    "version": 3
   },
   "file_extension": ".py",
   "mimetype": "text/x-python",
   "name": "python",
   "nbconvert_exporter": "python",
   "pygments_lexer": "ipython3",
   "version": "3.8.2"
  },
  "pycharm": {
   "stem_cell": {
    "cell_type": "raw",
    "metadata": {
     "collapsed": false
    },
    "source": []
   }
  }
 },
 "nbformat": 4,
 "nbformat_minor": 1
}
