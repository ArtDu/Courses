{
 "cells": [
  {
   "cell_type": "markdown",
   "metadata": {},
   "source": [
    "```redis\n",
    "art@mars:~/study/courses/web_python/week3/practice$ redis-cli \n",
    "127.0.0.1:6379> keys *\n",
    "(empty list or set)\n",
    "127.0.0.1:6379> set a 12\n",
    "OK\n",
    "127.0.0.1:6379> keys *\n",
    "1) \"a\"\n",
    "127.0.0.1:6379>\n",
    "```"
   ]
  },
  {
   "cell_type": "code",
   "execution_count": null,
   "metadata": {},
   "outputs": [],
   "source": []
  }
 ],
 "metadata": {
  "kernelspec": {
   "display_name": "PyCharm (web_python)",
   "language": "python",
   "name": "pycharm-dc00409"
  },
  "language_info": {
   "codemirror_mode": {
    "name": "ipython",
    "version": 3
   },
   "file_extension": ".py",
   "mimetype": "text/x-python",
   "name": "python",
   "nbconvert_exporter": "python",
   "pygments_lexer": "ipython3",
   "version": "3.8.2"
  }
 },
 "nbformat": 4,
 "nbformat_minor": 4
}
