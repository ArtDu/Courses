{
 "cells": [
  {
   "cell_type": "markdown",
   "metadata": {
    "pycharm": {
     "name": "#%% md\n"
    }
   },
   "source": [
    "![](img/join01.png)\n",
    "***\n",
    "![](img/join02.png)\n",
    "***\n",
    "![](img/join03.png)\n",
    "***\n",
    "![](img/join04.png)\n",
    "***\n",
    "![](img/join05.png)\n",
    "***\n",
    "![](img/join06.png)\n",
    "***\n",
    "![](img/join07.png)\n",
    "***\n",
    "![](img/join08.png)\n",
    "***\n",
    "![](img/join09.png)\n",
    "***\n",
    "![](img/join10.png)\n",
    "***\n",
    "![](img/join11.png)\n",
    "***"
   ]
  }
 ],
 "metadata": {
  "kernelspec": {
   "display_name": "PyCharm (web_python)",
   "language": "python",
   "name": "pycharm-dc00409"
  },
  "language_info": {
   "codemirror_mode": {
    "name": "ipython",
    "version": 3
   },
   "file_extension": ".py",
   "mimetype": "text/x-python",
   "name": "python",
   "nbconvert_exporter": "python",
   "pygments_lexer": "ipython3",
   "version": "3.8.2"
  },
  "pycharm": {
   "stem_cell": {
    "cell_type": "raw",
    "metadata": {
     "collapsed": false
    },
    "source": []
   }
  }
 },
 "nbformat": 4,
 "nbformat_minor": 4
}
