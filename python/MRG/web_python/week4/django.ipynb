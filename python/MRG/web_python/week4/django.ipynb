{
 "cells": [
  {
   "cell_type": "markdown",
   "metadata": {
    "pycharm": {
     "name": "#%% md\n"
    }
   },
   "source": [
    "![](img/view01.png)  \n",
    "![](img/view02.png)  \n",
    "![](img/view03.png)  \n",
    "![](img/view04.png)  \n",
    "![](img/view05.png)  \n",
    "![](img/view06.png)  \n",
    "![](img/view07.png)  \n",
    "![](img/view08.png)  \n",
    "![](img/view09.png)  \n",
    "![](img/view10.png)  \n",
    "![](img/view11.png)  \n",
    "![](img/view12.png)  \n",
    " "
   ]
  },
  {
   "cell_type": "code",
   "execution_count": null,
   "metadata": {},
   "outputs": [],
   "source": [
    "1"
   ]
  }
 ],
 "metadata": {
  "kernelspec": {
   "display_name": "PyCharm (web_python)",
   "language": "python",
   "name": "pycharm-dc00409"
  },
  "language_info": {
   "codemirror_mode": {
    "name": "ipython",
    "version": 3
   },
   "file_extension": ".py",
   "mimetype": "text/x-python",
   "name": "python",
   "nbconvert_exporter": "python",
   "pygments_lexer": "ipython3",
   "version": "3.8.2"
  },
  "pycharm": {
   "stem_cell": {
    "cell_type": "raw",
    "source": [],
    "metadata": {
     "collapsed": false
    }
   }
  }
 },
 "nbformat": 4,
 "nbformat_minor": 4
}