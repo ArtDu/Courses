{
 "cells": [
  {
   "cell_type": "markdown",
   "metadata": {},
   "source": [
    "![](img/alter00.png)\n",
    "***\n",
    "![](img/alter01.png)\n",
    "***\n",
    "![](img/alter02.png)\n",
    "***\n",
    "![](img/alter03.png)\n",
    "***\n",
    "![](img/alter04.png)\n",
    "***\n",
    "![](img/alter05.png)\n",
    "***\n",
    "![](img/alter06.png)\n",
    "***\n",
    "![](img/alter07.png)\n",
    "***\n",
    "\n",
    "---\n",
    "\n",
    "![](img/change01.png)\n",
    "---\n",
    "![](img/insert.png)  \n",
    "---\n",
    "![](img/change02.png)\n",
    "---\n",
    "![](img/change03.png)\n",
    "---\n",
    "![](img/change04.png)  \n",
    "---\n",
    "![](img/change05.png)\n",
    "---\n",
    "![](img/change06.png)\n",
    "---\n",
    "![](img/change07.png)\n",
    "---\n",
    "![](img/change08.png)\n",
    "---"
   ]
  }
 ],
 "metadata": {
  "kernelspec": {
   "display_name": "PyCharm (web_python)",
   "language": "python",
   "name": "pycharm-dc00409"
  },
  "language_info": {
   "codemirror_mode": {
    "name": "ipython",
    "version": 3
   },
   "file_extension": ".py",
   "mimetype": "text/x-python",
   "name": "python",
   "nbconvert_exporter": "python",
   "pygments_lexer": "ipython3",
   "version": "3.8.2"
  },
  "pycharm": {
   "stem_cell": {
    "cell_type": "raw",
    "metadata": {
     "collapsed": false
    },
    "source": []
   }
  }
 },
 "nbformat": 4,
 "nbformat_minor": 4
}
