{
 "cells": [
  {
   "cell_type": "markdown",
   "metadata": {
    "pycharm": {
     "name": "#%% md\n"
    }
   },
   "source": [
    "![](img/types01.png)\n",
    "***\n",
    "![](img/types02.png)\n",
    "***\n",
    "![](img/types03.png)\n",
    "***\n",
    "![](img/types04.png)\n",
    "***\n",
    "![](img/types05.png)\n",
    "***\n",
    "![](img/types06.png)\n",
    "***\n",
    "![](img/types07.png)\n",
    "***\n",
    "![](img/types08.png)\n",
    "***\n",
    "![](img/types09.png)\n",
    "***\n",
    "![](img/types10.png)\n",
    "***\n",
    "![](img/types11.png)\n",
    "***\n",
    "![](img/types12.png)\n",
    "***\n",
    "![](img/types13.png)\n",
    "***\n",
    "![](img/types14.png)\n",
    "***\n",
    "![](img/types15.png)"
   ]
  }
 ],
 "metadata": {
  "kernelspec": {
   "display_name": "PyCharm (web_python)",
   "language": "python",
   "name": "pycharm-dc00409"
  },
  "language_info": {
   "codemirror_mode": {
    "name": "ipython",
    "version": 3
   },
   "file_extension": ".py",
   "mimetype": "text/x-python",
   "name": "python",
   "nbconvert_exporter": "python",
   "pygments_lexer": "ipython3",
   "version": "3.8.2"
  },
  "pycharm": {
   "stem_cell": {
    "cell_type": "raw",
    "metadata": {
     "collapsed": false
    },
    "source": []
   }
  }
 },
 "nbformat": 4,
 "nbformat_minor": 4
}
